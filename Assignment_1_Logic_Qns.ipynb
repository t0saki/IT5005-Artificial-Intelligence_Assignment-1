{
 "cells": [
  {
   "cell_type": "markdown",
   "metadata": {},
   "source": [
    "Group Name: AG xx.\n",
    "\n",
    "Student Name (Student ID):\n",
    "\n",
    "1. Ju Longfei (A0296990H)\n",
    "\n",
    "2. Li Haoyu (A0310137W)\n",
    "\n",
    "3. Wu Zhengxiao (A0309385W)\n",
    "\n",
    "4. Ye Fangda (A0310135Y)"
   ]
  },
  {
   "cell_type": "markdown",
   "metadata": {},
   "source": [
    "# **Question 2** \n",
    "\n",
    "Three stooges (namely, Carly, Larry, and Mou) are going to a party. Each wears different colors of suits (blue, green, and white), and they like different types of drinks (orange juice, beer, gimlet). The dress color and drink preferences are as follows. Carly loves orange juice, but hates the white color. Larry hates beer.  All Moe’s suits are blue\n",
    "\n",
    "  \n",
    "## Q2a: Representation\n",
    "\n",
    "Convert the given problem into propositional sentences. Follow the guidelines shown below while defining propositional variables.   [6 Marks]\n",
    "\n",
    "Use three characters to represent propositional variables as 'DXX' and 'CXX'. Description of the characters in the variable is provided below:\n",
    " \n",
    "(i)   'DXX':\n",
    "    \n",
    "       First character 'D' indicates that the variable corresponds to drink\n",
    "    \n",
    "       Second character represents person. \n",
    "    \n",
    "            C: Carly\n",
    "        \n",
    "            L: Larry\n",
    "        \n",
    "            M: Mou\n",
    "    \n",
    "        Third character represents name of specific drink\n",
    "    \n",
    "            O: Orange Juice\n",
    "    \n",
    "            B: Beer\n",
    "    \n",
    "            G: Gimlet\n",
    "\n",
    "        Example:   DCB represents 'Carly likes Beer'  \n",
    "\n",
    "        \n",
    "(ii)   'CXX':\n",
    "\n",
    "            First character 'C' indicates color of the suite\n",
    "        \n",
    "            Second character represents person\n",
    "        \n",
    "                C: Carly\n",
    "        \n",
    "                L: Larry\n",
    "        \n",
    "                M: Mou\n",
    "        \n",
    "            Third character represents name of specific color\n",
    "        \n",
    "                B: Blue\n",
    "        \n",
    "                G: Green\n",
    "        \n",
    "                W: White\n",
    "\n",
    "        Example:    CCB  represents  'Carly likes Blue colored suit'\n",
    "\n",
    "\n",
    "\n",
    "## Q2b: Reasoning\n",
    "\n",
    "Deduce their preference using propositional logic. To this end, solve the following sub-problems. [4 Marks]\n",
    "\n",
    "    (i) Identify (with justification) two inference algorithms among tt_entails, resolution-refutation, forward chaining and backward chaining algorithms to solve this problem.  [1 Marks]\n",
    "    \n",
    "\n",
    "    (ii) Select the best of the two algorithms selected in part (i).  Provide the rationale behind your selection. [1 Marks]\n",
    "\n",
    "    (ii) Solve this problem using the algorithm selected in part (ii)[2 Mark]"
   ]
  },
  {
   "cell_type": "code",
   "execution_count": 13,
   "metadata": {},
   "outputs": [],
   "source": [
    "from logic_ import *\n",
    "from utils import *"
   ]
  },
  {
   "cell_type": "markdown",
   "metadata": {},
   "source": [
    "# Q2a. Representation\n",
    "\n",
    "The variables are defined below"
   ]
  },
  {
   "cell_type": "code",
   "execution_count": 14,
   "metadata": {},
   "outputs": [],
   "source": [
    "#Variables\n",
    "(DCB, DLB, DMB, DCG, DLG, DMG, DCO, DLO, DMO) = expr('DCB, DLB, DMB, DCG, DLG, DMG, DCO, DLO, DMO')\n",
    "(CCB, CLB, CMB, CCG, CLG, CMG, CCW, CLW, CMW) = expr('CCB, CLB, CMB, CCG, CLG, CMG, CCW, CLW, CMW')"
   ]
  },
  {
   "cell_type": "markdown",
   "metadata": {},
   "source": [
    "## Building the KB\n",
    "\n",
    "Convert the following five sentences into propositional sentences."
   ]
  },
  {
   "cell_type": "markdown",
   "metadata": {},
   "source": [
    "### Q2a(i). Each wears different colors of suits (green, blue,  and white) [1.5 Marks]"
   ]
  },
  {
   "cell_type": "code",
   "execution_count": 15,
   "metadata": {},
   "outputs": [],
   "source": [
    "clause_diff_color = []"
   ]
  },
  {
   "cell_type": "markdown",
   "metadata": {},
   "source": [
    "### Q2a(ii). Each likes different drinks (orange juice, gin and beer)  [1.5 Marks]"
   ]
  },
  {
   "cell_type": "code",
   "execution_count": 16,
   "metadata": {},
   "outputs": [],
   "source": [
    "clause_diff_drink = []"
   ]
  },
  {
   "cell_type": "markdown",
   "metadata": {},
   "source": [
    "### Q2a(iii). Carly loves orange juice but hates white color [0.5 Marks]"
   ]
  },
  {
   "cell_type": "code",
   "execution_count": 17,
   "metadata": {},
   "outputs": [],
   "source": [
    "clause_Carly = [\n",
    "    DCO,\n",
    "    ~CCW\n",
    "]"
   ]
  },
  {
   "cell_type": "markdown",
   "metadata": {},
   "source": [
    "### Q2a(iv). Larry hates beer [0.5 Marks] "
   ]
  },
  {
   "cell_type": "code",
   "execution_count": 18,
   "metadata": {},
   "outputs": [],
   "source": [
    "clause_Larry = [\n",
    "    ~DLB\n",
    "]"
   ]
  },
  {
   "cell_type": "markdown",
   "metadata": {},
   "source": [
    "### Q2a(v). All Moe’s suits are blue [0.5 Marks]"
   ]
  },
  {
   "cell_type": "code",
   "execution_count": 19,
   "metadata": {},
   "outputs": [],
   "source": [
    "clause_Moe = [\n",
    "    CMB,\n",
    "    ~CMG,\n",
    "    ~CMW\n",
    "]"
   ]
  },
  {
   "cell_type": "markdown",
   "metadata": {},
   "source": [
    "### Q2a(vi). Adding clauses to the KB [1.5 Marks]\n",
    "\n",
    "Which KB would you select: PropKB/PropDefiniteKB? Instantiate an object with the selected KB and add the clauses to the KB. \n",
    "\n"
   ]
  },
  {
   "cell_type": "markdown",
   "metadata": {},
   "source": [
    "**Ansower:**\n",
    "\n",
    "We should select PropKB because our knowledge base contains general propositional clauses that include disjunctions and negative literals. The PropDefiniteKB is designed for definite clauses (Horn clauses) which are a restricted form of clauses that do not support all types of propositional sentences. Since our problem involves general propositional logic, PropKB is a good choice."
   ]
  },
  {
   "cell_type": "code",
   "execution_count": 20,
   "metadata": {},
   "outputs": [],
   "source": [
    "puzzle_clauses = clause_diff_color + clause_diff_drink + clause_Carly + clause_Larry + clause_Moe"
   ]
  },
  {
   "cell_type": "code",
   "execution_count": 21,
   "metadata": {},
   "outputs": [
    {
     "name": "stdout",
     "output_type": "stream",
     "text": [
      "[DCO, ~CCW, ~DLB, CMB, ~CMG, ~CMW]\n"
     ]
    }
   ],
   "source": [
    "puzzleKB = PropKB()\n",
    "for clause in puzzle_clauses:\n",
    "    puzzleKB.tell(expr(clause))\n",
    "\n",
    "print(puzzleKB.clauses)"
   ]
  },
  {
   "cell_type": "markdown",
   "metadata": {},
   "source": [
    "# Q2b: Reasoning\n",
    "\n",
    "Deduce their preference using propositional logic. To this end, solve the following sub-problems. "
   ]
  },
  {
   "cell_type": "markdown",
   "metadata": {},
   "source": [
    "### Q2b(i) Identify (with justification) two inference algorithms among tt_entails, resolution-refutation, forward chaining and backward chaining algorithms to solve this problem. [1 Marks]    \n",
    "\n"
   ]
  },
  {
   "cell_type": "markdown",
   "metadata": {},
   "source": [
    "Write your answerfor Q2b(i) here."
   ]
  },
  {
   "cell_type": "markdown",
   "metadata": {},
   "source": [
    "**Answer:**\n",
    "\n",
    "tt_entails and resolution-refutation.\n",
    "\n",
    "tt_entails can handle arbitrary propositional knowledge bases, and resolution-refutation is well suited to handle knowledge bases containing conjunctive normal form clauses.\n",
    "\n",
    "Forward chaining and backward chaining are efficient algorithms, but only for knowledge bases consisting of definite clauses (Horn clauses), whereas our knowledge bases contain disjunctions and negations, so these algorithms are not suitable."
   ]
  },
  {
   "cell_type": "markdown",
   "metadata": {},
   "source": [
    "### Q2b(ii) Select the best of these two algorithms.  Provide the rationale behind your selection. [1 Marks]\n",
    "\n",
    "Hint: Try solving the problem using both algorithms; it should give you insight in terms of time complexity; Exact time complexity analysis is not needed as it is beyond the scope of this module. \n",
    "\n"
   ]
  },
  {
   "cell_type": "markdown",
   "metadata": {},
   "source": [
    "Write your answer for Q2b(ii) here. \n"
   ]
  },
  {
   "cell_type": "markdown",
   "metadata": {},
   "source": [
    "**Answer:**\n",
    "\n",
    "resolution-refutation is generally more efficient than tt_entails because it does not require generating and checking all possible models. Instead, it attempts to derive a contradiction from the knowledge base and the negation of the query."
   ]
  },
  {
   "cell_type": "markdown",
   "metadata": {},
   "source": [
    "### Q2b(iii) Solve this problem using the above algorithm [2 Mark]"
   ]
  },
  {
   "cell_type": "markdown",
   "metadata": {},
   "source": [
    "Identify the preferred drink and preferred colors of Carly, Larry and Mou. Use the algorithm selected in Q2b(ii)\n",
    "\n",
    "The results must be stored in the dictionaries drink_dict and color_dict. \n",
    "\n",
    "These two dictionaries are initialized with None; replace them with the correct value. \n",
    "\n",
    "For example:\n",
    "\n",
    "     if Carly likes beer, replace the value corresponding to the key DCB with True. \n",
    "\n",
    "     if Carly likes blue color suit, replace the value corresponding to the key CCB with True. \n",
    "     \n",
    "     if Carly does not like beer, replace the value corresponding to the key DCB with False. \n",
    "\n",
    "     if Carly does not like blue color suit, replace the value corresponding to the key CCB with False. "
   ]
  },
  {
   "cell_type": "code",
   "execution_count": 22,
   "metadata": {},
   "outputs": [],
   "source": [
    "\n",
    "drink_dict =   { DCB: None,\n",
    "                 DLB: None,\n",
    "                 DMB: None,\n",
    "                 DCG: None,\n",
    "                 DLG: None,\n",
    "                 DMG: None,\n",
    "                 DCO: None,\n",
    "                 DLO: None,\n",
    "                 DMO: None }\n",
    "\n",
    "\n",
    "\n",
    "color_dict=    { CCB: None,\n",
    "                 CLB: None,\n",
    "                 CMB: None,\n",
    "                 CCG: None,\n",
    "                 CLG: None,\n",
    "                 CMG: None,\n",
    "                 CCW: None,\n",
    "                 CLW: None,\n",
    "                 CMW: None }\n",
    "\n"
   ]
  },
  {
   "cell_type": "code",
   "execution_count": 23,
   "metadata": {},
   "outputs": [
    {
     "name": "stdout",
     "output_type": "stream",
     "text": [
      "{DCB: False, DLB: False, DMB: False, DCG: False, DLG: False, DMG: False, DCO: True, DLO: False, DMO: False}\n"
     ]
    }
   ],
   "source": [
    "drink_dict = {}\n",
    "for symbs in [DCB, DLB, DMB, DCG, DLG, DMG, DCO, DLO, DMO]:\n",
    "    drink_dict[symbs] = pl_resolution(puzzleKB, symbs)\n",
    "    \n",
    "\n",
    "print(drink_dict)"
   ]
  },
  {
   "cell_type": "code",
   "execution_count": 24,
   "metadata": {},
   "outputs": [
    {
     "name": "stdout",
     "output_type": "stream",
     "text": [
      "{CCB: False, CLB: False, CMB: True, CCG: False, CLG: False, CMG: False, CCW: False, CLW: False, CMW: False}\n"
     ]
    }
   ],
   "source": [
    "color_dict = {}\n",
    "for symbs in (CCB, CLB, CMB, CCG, CLG, CMG, CCW, CLW, CMW):\n",
    "    color_dict[symbs] =  pl_resolution(puzzleKB, symbs)\n",
    "    \n",
    "print(color_dict)"
   ]
  }
 ],
 "metadata": {
  "kernelspec": {
   "display_name": "Python 3",
   "language": "python",
   "name": "python3"
  },
  "language_info": {
   "codemirror_mode": {
    "name": "ipython",
    "version": 3
   },
   "file_extension": ".py",
   "mimetype": "text/x-python",
   "name": "python",
   "nbconvert_exporter": "python",
   "pygments_lexer": "ipython3",
   "version": "3.12.2"
  }
 },
 "nbformat": 4,
 "nbformat_minor": 2
}
